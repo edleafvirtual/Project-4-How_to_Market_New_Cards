{
 "cells": [
  {
   "cell_type": "markdown",
   "id": "d7198197",
   "metadata": {},
   "source": [
    "# A. General Information:\n",
    "- **Name:** Eduardo Galindez.\n",
    "- **Date:** August 16th, 2022.\n",
    "- **ML Model:** Unsupervised Learning - KMeans."
   ]
  },
  {
   "cell_type": "markdown",
   "id": "8b50d3c9",
   "metadata": {},
   "source": [
    "# B. Code Development"
   ]
  },
  {
   "cell_type": "markdown",
   "id": "584fcf24",
   "metadata": {},
   "source": [
    "## 1.- Libraries & Functions"
   ]
  },
  {
   "cell_type": "code",
   "execution_count": 1,
   "id": "426f01ce",
   "metadata": {},
   "outputs": [],
   "source": [
    "# Libraries.\n",
    "import numpy as np\n",
    "import pandas as pd\n",
    "import tmdbsimple as tmdb \n",
    "import matplotlib.pyplot as plt\n",
    "import seaborn as sns\n",
    "import scipy.stats as stats\n",
    "\n",
    "from tqdm.notebook import tqdm_notebook"
   ]
  },
  {
   "cell_type": "code",
   "execution_count": null,
   "id": "938c721c",
   "metadata": {},
   "outputs": [],
   "source": []
  },
  {
   "cell_type": "code",
   "execution_count": null,
   "id": "51e77033",
   "metadata": {},
   "outputs": [],
   "source": []
  },
  {
   "cell_type": "markdown",
   "id": "bd73732f",
   "metadata": {},
   "source": [
    "## 2.- Data\n",
    "- The data to work with is from Part A."
   ]
  },
  {
   "cell_type": "code",
   "execution_count": 2,
   "id": "593fd4e9",
   "metadata": {},
   "outputs": [
    {
     "data": {
      "text/html": [
       "<div>\n",
       "<style scoped>\n",
       "    .dataframe tbody tr th:only-of-type {\n",
       "        vertical-align: middle;\n",
       "    }\n",
       "\n",
       "    .dataframe tbody tr th {\n",
       "        vertical-align: top;\n",
       "    }\n",
       "\n",
       "    .dataframe thead th {\n",
       "        text-align: right;\n",
       "    }\n",
       "</style>\n",
       "<table border=\"1\" class=\"dataframe\">\n",
       "  <thead>\n",
       "    <tr style=\"text-align: right;\">\n",
       "      <th></th>\n",
       "      <th>Age</th>\n",
       "      <th>Education</th>\n",
       "      <th>Years Employed</th>\n",
       "      <th>Income</th>\n",
       "      <th>Debt</th>\n",
       "      <th>Defaulted</th>\n",
       "      <th>DebtIncomeRatio</th>\n",
       "      <th>Cluster</th>\n",
       "    </tr>\n",
       "  </thead>\n",
       "  <tbody>\n",
       "    <tr>\n",
       "      <th>0</th>\n",
       "      <td>41</td>\n",
       "      <td>2</td>\n",
       "      <td>6</td>\n",
       "      <td>19</td>\n",
       "      <td>1.197</td>\n",
       "      <td>0.0</td>\n",
       "      <td>6.3</td>\n",
       "      <td>0</td>\n",
       "    </tr>\n",
       "    <tr>\n",
       "      <th>1</th>\n",
       "      <td>47</td>\n",
       "      <td>1</td>\n",
       "      <td>26</td>\n",
       "      <td>100</td>\n",
       "      <td>12.800</td>\n",
       "      <td>0.0</td>\n",
       "      <td>12.8</td>\n",
       "      <td>1</td>\n",
       "    </tr>\n",
       "    <tr>\n",
       "      <th>2</th>\n",
       "      <td>33</td>\n",
       "      <td>2</td>\n",
       "      <td>10</td>\n",
       "      <td>57</td>\n",
       "      <td>11.913</td>\n",
       "      <td>1.0</td>\n",
       "      <td>20.9</td>\n",
       "      <td>2</td>\n",
       "    </tr>\n",
       "    <tr>\n",
       "      <th>3</th>\n",
       "      <td>29</td>\n",
       "      <td>2</td>\n",
       "      <td>4</td>\n",
       "      <td>19</td>\n",
       "      <td>1.197</td>\n",
       "      <td>0.0</td>\n",
       "      <td>6.3</td>\n",
       "      <td>0</td>\n",
       "    </tr>\n",
       "    <tr>\n",
       "      <th>4</th>\n",
       "      <td>47</td>\n",
       "      <td>1</td>\n",
       "      <td>31</td>\n",
       "      <td>253</td>\n",
       "      <td>18.216</td>\n",
       "      <td>0.0</td>\n",
       "      <td>7.2</td>\n",
       "      <td>1</td>\n",
       "    </tr>\n",
       "  </tbody>\n",
       "</table>\n",
       "</div>"
      ],
      "text/plain": [
       "   Age  Education  Years Employed  Income    Debt  Defaulted  DebtIncomeRatio  \\\n",
       "0   41          2               6      19   1.197        0.0              6.3   \n",
       "1   47          1              26     100  12.800        0.0             12.8   \n",
       "2   33          2              10      57  11.913        1.0             20.9   \n",
       "3   29          2               4      19   1.197        0.0              6.3   \n",
       "4   47          1              31     253  18.216        0.0              7.2   \n",
       "\n",
       "   Cluster  \n",
       "0        0  \n",
       "1        1  \n",
       "2        2  \n",
       "3        0  \n",
       "4        1  "
      ]
     },
     "execution_count": 2,
     "metadata": {},
     "output_type": "execute_result"
    }
   ],
   "source": [
    "# Load title basics table.\n",
    "main_df = pd.read_csv('./Data/DataFrame_Customers_with_Cluster.csv')\n",
    "main_df.head(5)"
   ]
  },
  {
   "cell_type": "code",
   "execution_count": 3,
   "id": "b57120cf",
   "metadata": {},
   "outputs": [
    {
     "name": "stdout",
     "output_type": "stream",
     "text": [
      "<class 'pandas.core.frame.DataFrame'>\n",
      "RangeIndex: 850 entries, 0 to 849\n",
      "Data columns (total 8 columns):\n",
      " #   Column           Non-Null Count  Dtype  \n",
      "---  ------           --------------  -----  \n",
      " 0   Age              850 non-null    int64  \n",
      " 1   Education        850 non-null    int64  \n",
      " 2   Years Employed   850 non-null    int64  \n",
      " 3   Income           850 non-null    int64  \n",
      " 4   Debt             850 non-null    float64\n",
      " 5   Defaulted        850 non-null    float64\n",
      " 6   DebtIncomeRatio  850 non-null    float64\n",
      " 7   Cluster          850 non-null    int64  \n",
      "dtypes: float64(3), int64(5)\n",
      "memory usage: 53.2 KB\n"
     ]
    }
   ],
   "source": [
    "# Check general info.\n",
    "main_df.info()"
   ]
  },
  {
   "cell_type": "markdown",
   "id": "eb4b5869",
   "metadata": {},
   "source": [
    "**Notes:**\n",
    "- 'Age', 'Education', 'Years Employed' & 'Clusters' are columns that must be object instead of numerics.\n",
    "- 'Defaulted' column will be transformed to integer to then changed to object dtype."
   ]
  },
  {
   "cell_type": "code",
   "execution_count": 4,
   "id": "8c2afa1c",
   "metadata": {},
   "outputs": [],
   "source": [
    "# Let's convert 'Defaulted' to integer.\n",
    "main_df['Defaulted'] = main_df['Defaulted'].apply(np.int64)"
   ]
  },
  {
   "cell_type": "code",
   "execution_count": 5,
   "id": "866a4150",
   "metadata": {},
   "outputs": [],
   "source": [
    "# Let's convert the columns mentioned to object.\n",
    "main_df['Age'] = main_df['Age'].astype(object)\n",
    "main_df['Education'] = main_df['Education'].astype(object)\n",
    "main_df['Years Employed'] = main_df['Years Employed'].astype(object)\n",
    "main_df['Cluster'] = main_df['Cluster'].astype(object)\n",
    "main_df['Defaulted'] = main_df['Defaulted'].astype(object)\n"
   ]
  },
  {
   "cell_type": "code",
   "execution_count": 6,
   "id": "4d313526",
   "metadata": {},
   "outputs": [
    {
     "name": "stdout",
     "output_type": "stream",
     "text": [
      "<class 'pandas.core.frame.DataFrame'>\n",
      "RangeIndex: 850 entries, 0 to 849\n",
      "Data columns (total 8 columns):\n",
      " #   Column           Non-Null Count  Dtype  \n",
      "---  ------           --------------  -----  \n",
      " 0   Age              850 non-null    object \n",
      " 1   Education        850 non-null    object \n",
      " 2   Years Employed   850 non-null    object \n",
      " 3   Income           850 non-null    int64  \n",
      " 4   Debt             850 non-null    float64\n",
      " 5   Defaulted        850 non-null    object \n",
      " 6   DebtIncomeRatio  850 non-null    float64\n",
      " 7   Cluster          850 non-null    object \n",
      "dtypes: float64(2), int64(1), object(5)\n",
      "memory usage: 53.2+ KB\n"
     ]
    }
   ],
   "source": [
    "# Confirm transformation.\n",
    "main_df.info()"
   ]
  },
  {
   "cell_type": "markdown",
   "id": "3443ac46",
   "metadata": {},
   "source": [
    "## 3.- Hypothesis Test"
   ]
  },
  {
   "cell_type": "markdown",
   "id": "86a03572",
   "metadata": {},
   "source": [
    "**Notes:**\n",
    "- The objective is to evaluate how each cluster would react to the advertising from Platinum & Gold Credit Cards.\n",
    "- Our idea is to deliver marketing strategic suggestions based on two of the variables evaluated in Part A: Income & Debt. This way the campaign would have keywords related to the best result found it.\n",
    "- Both variables (Income & Debt) are numeric and we have 3 clusters (0, 1 & 2) meaning that we are going to use [ANOVA](https://statistics.laerd.com/spss-tutorials/one-way-anova-using-spss-statistics.php) to evaluate the hypothesis."
   ]
  },
  {
   "cell_type": "markdown",
   "id": "7c4c70c8",
   "metadata": {},
   "source": [
    "### 3.1. Is the income the main variable to be pointed in the advertising/marketing content?"
   ]
  },
  {
   "cell_type": "code",
   "execution_count": 7,
   "id": "95007255",
   "metadata": {},
   "outputs": [
    {
     "name": "stdout",
     "output_type": "stream",
     "text": [
      "Cluster\n",
      "0    34.83\n",
      "1    99.30\n",
      "2    32.63\n",
      "Name: Income, dtype: float64\n"
     ]
    },
    {
     "data": {
      "image/png": "[encoded data removed]",
      "text/plain": [
       "<Figure size 640x480 with 1 Axes>"
      ]
     },
     "metadata": {},
     "output_type": "display_data"
    }
   ],
   "source": [
    "# Let's have a brief look of income per cluster.\n",
    "main_df.groupby('Cluster')['Income'].mean().plot(kind='bar');\n",
    "print(main_df.groupby('Cluster')['Income'].mean().round(2))"
   ]
  },
  {
   "cell_type": "markdown",
   "id": "d1584f66",
   "metadata": {},
   "source": [
    "**Test for Significant Outliers**"
   ]
  },
  {
   "cell_type": "code",
   "execution_count": 8,
   "id": "213d85da",
   "metadata": {},
   "outputs": [
    {
     "data": {
      "text/plain": [
       "dict_keys([0, 1, 2])"
      ]
     },
     "execution_count": 8,
     "metadata": {},
     "output_type": "execute_result"
    }
   ],
   "source": [
    "# Separate the groups.\n",
    "groups = {}\n",
    "for i in main_df['Cluster'].unique():\n",
    "    data = main_df.loc[main_df['Cluster']==i,'Income'].copy()\n",
    "    groups[i] = data \n",
    "groups.keys()"
   ]
  },
  {
   "cell_type": "code",
   "execution_count": 9,
   "id": "d99579fb",
   "metadata": {},
   "outputs": [],
   "source": [
    "# Set up the columns needed.\n",
    "needed_columns = ['Cluster', 'Income']"
   ]
  },
  {
   "cell_type": "code",
   "execution_count": 10,
   "id": "5224caec",
   "metadata": {},
   "outputs": [
    {
     "data": {
      "text/plain": [
       "dict_keys([0, 1, 2])"
      ]
     },
     "execution_count": 10,
     "metadata": {},
     "output_type": "execute_result"
    }
   ],
   "source": [
    "# Let's call back the keys in region.\n",
    "groups.keys()"
   ]
  },
  {
   "cell_type": "code",
   "execution_count": 11,
   "id": "be5045ba",
   "metadata": {},
   "outputs": [
    {
     "name": "stdout",
     "output_type": "stream",
     "text": [
      "We found 6 Outliers in cluster 0\n",
      "We found 2 Outliers in cluster 1\n",
      "We found 3 Outliers in cluster 2\n"
     ]
    }
   ],
   "source": [
    "# Look for outliers.\n",
    "for Cluster, data in groups.items():\n",
    "    outliers = np.abs(stats.zscore(data)) > 3\n",
    "    print(f'We found', outliers.sum(), 'Outliers in cluster', Cluster)\n",
    "    # Remove outliers.\n",
    "    data = data.loc[~outliers]\n",
    "    groups[Cluster] = data"
   ]
  },
  {
   "cell_type": "code",
   "execution_count": null,
   "id": "4a7b5375",
   "metadata": {},
   "outputs": [],
   "source": []
  },
  {
   "cell_type": "code",
   "execution_count": null,
   "id": "49078a1d",
   "metadata": {},
   "outputs": [],
   "source": []
  },
  {
   "cell_type": "code",
   "execution_count": null,
   "id": "5167ae03",
   "metadata": {},
   "outputs": [],
   "source": []
  },
  {
   "cell_type": "code",
   "execution_count": null,
   "id": "d37285d0",
   "metadata": {},
   "outputs": [],
   "source": []
  },
  {
   "cell_type": "markdown",
   "id": "f4535340",
   "metadata": {},
   "source": [
    "### 3.2. Is the debt the main variable to be pointed in the advertising/marketing content?"
   ]
  },
  {
   "cell_type": "code",
   "execution_count": null,
   "id": "1b657897",
   "metadata": {},
   "outputs": [],
   "source": []
  },
  {
   "cell_type": "code",
   "execution_count": null,
   "id": "9c374717",
   "metadata": {},
   "outputs": [],
   "source": []
  },
  {
   "cell_type": "code",
   "execution_count": null,
   "id": "c5fe71ca",
   "metadata": {},
   "outputs": [],
   "source": []
  },
  {
   "cell_type": "code",
   "execution_count": null,
   "id": "4ca75549",
   "metadata": {},
   "outputs": [],
   "source": []
  },
  {
   "cell_type": "code",
   "execution_count": null,
   "id": "2596e229",
   "metadata": {},
   "outputs": [],
   "source": []
  },
  {
   "cell_type": "markdown",
   "id": "25fdc2ab",
   "metadata": {},
   "source": [
    "# C. Conclusions"
   ]
  },
  {
   "cell_type": "markdown",
   "id": "20b032f7",
   "metadata": {},
   "source": [
    "- Xxxxx"
   ]
  }
 ],
 "metadata": {
  "kernelspec": {
   "display_name": "Python (dojo-env)",
   "language": "python",
   "name": "dojo-env"
  },
  "language_info": {
   "codemirror_mode": {
    "name": "ipython",
    "version": 3
   },
   "file_extension": ".py",
   "mimetype": "text/x-python",
   "name": "python",
   "nbconvert_exporter": "python",
   "pygments_lexer": "ipython3",
   "version": "3.8.13"
  },
  "toc": {
   "base_numbering": 1,
   "nav_menu": {},
   "number_sections": false,
   "sideBar": true,
   "skip_h1_title": false,
   "title_cell": "Table of Contents",
   "title_sidebar": "Contents",
   "toc_cell": false,
   "toc_position": {},
   "toc_section_display": true,
   "toc_window_display": false
  }
 },
 "nbformat": 4,
 "nbformat_minor": 5
}
