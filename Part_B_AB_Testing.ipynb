{
 "cells": [
  {
   "cell_type": "markdown",
   "id": "d7198197",
   "metadata": {},
   "source": [
    "# A. General Information:\n",
    "- **Name:** Eduardo Galindez.\n",
    "- **Date:** October 19, 2022.\n",
    "- **Model:** A/B Testing."
   ]
  },
  {
   "cell_type": "markdown",
   "id": "8b50d3c9",
   "metadata": {},
   "source": [
    "# B. Code Development"
   ]
  },
  {
   "cell_type": "markdown",
   "id": "584fcf24",
   "metadata": {},
   "source": [
    "## 1.- Libraries & Functions"
   ]
  },
  {
   "cell_type": "code",
   "execution_count": 1,
   "id": "426f01ce",
   "metadata": {},
   "outputs": [],
   "source": [
    "# Libraries.\n",
    "import numpy as np\n",
    "import pandas as pd\n",
    "import tmdbsimple as tmdb \n",
    "import matplotlib.pyplot as plt\n",
    "import seaborn as sns\n",
    "import scipy.stats as stats\n",
    "\n",
    "from tqdm.notebook import tqdm_notebook\n",
    "from statsmodels.stats.multicomp import pairwise_tukeyhsd"
   ]
  },
  {
   "cell_type": "markdown",
   "id": "bd73732f",
   "metadata": {},
   "source": [
    "## 2.- Data\n",
    "- The data to work with is from [Part A](https://github.com/edleafvirtual/Project-4-How_to_Market_New_Cards/blob/main/Part_A_KMeans.ipynb)."
   ]
  },
  {
   "cell_type": "code",
   "execution_count": 2,
   "id": "593fd4e9",
   "metadata": {},
   "outputs": [
    {
     "data": {
      "text/html": [
       "<div>\n",
       "<style scoped>\n",
       "    .dataframe tbody tr th:only-of-type {\n",
       "        vertical-align: middle;\n",
       "    }\n",
       "\n",
       "    .dataframe tbody tr th {\n",
       "        vertical-align: top;\n",
       "    }\n",
       "\n",
       "    .dataframe thead th {\n",
       "        text-align: right;\n",
       "    }\n",
       "</style>\n",
       "<table border=\"1\" class=\"dataframe\">\n",
       "  <thead>\n",
       "    <tr style=\"text-align: right;\">\n",
       "      <th></th>\n",
       "      <th>Age</th>\n",
       "      <th>Education</th>\n",
       "      <th>Years Employed</th>\n",
       "      <th>Income</th>\n",
       "      <th>Debt</th>\n",
       "      <th>Defaulted</th>\n",
       "      <th>DebtIncomeRatio</th>\n",
       "      <th>Cluster</th>\n",
       "    </tr>\n",
       "  </thead>\n",
       "  <tbody>\n",
       "    <tr>\n",
       "      <th>0</th>\n",
       "      <td>41</td>\n",
       "      <td>2</td>\n",
       "      <td>6</td>\n",
       "      <td>19</td>\n",
       "      <td>1.197</td>\n",
       "      <td>0.0</td>\n",
       "      <td>6.3</td>\n",
       "      <td>0</td>\n",
       "    </tr>\n",
       "    <tr>\n",
       "      <th>1</th>\n",
       "      <td>47</td>\n",
       "      <td>1</td>\n",
       "      <td>26</td>\n",
       "      <td>100</td>\n",
       "      <td>12.800</td>\n",
       "      <td>0.0</td>\n",
       "      <td>12.8</td>\n",
       "      <td>1</td>\n",
       "    </tr>\n",
       "    <tr>\n",
       "      <th>2</th>\n",
       "      <td>33</td>\n",
       "      <td>2</td>\n",
       "      <td>10</td>\n",
       "      <td>57</td>\n",
       "      <td>11.913</td>\n",
       "      <td>1.0</td>\n",
       "      <td>20.9</td>\n",
       "      <td>2</td>\n",
       "    </tr>\n",
       "    <tr>\n",
       "      <th>3</th>\n",
       "      <td>29</td>\n",
       "      <td>2</td>\n",
       "      <td>4</td>\n",
       "      <td>19</td>\n",
       "      <td>1.197</td>\n",
       "      <td>0.0</td>\n",
       "      <td>6.3</td>\n",
       "      <td>0</td>\n",
       "    </tr>\n",
       "    <tr>\n",
       "      <th>4</th>\n",
       "      <td>47</td>\n",
       "      <td>1</td>\n",
       "      <td>31</td>\n",
       "      <td>253</td>\n",
       "      <td>18.216</td>\n",
       "      <td>0.0</td>\n",
       "      <td>7.2</td>\n",
       "      <td>1</td>\n",
       "    </tr>\n",
       "  </tbody>\n",
       "</table>\n",
       "</div>"
      ],
      "text/plain": [
       "   Age  Education  Years Employed  Income    Debt  Defaulted  DebtIncomeRatio  \\\n",
       "0   41          2               6      19   1.197        0.0              6.3   \n",
       "1   47          1              26     100  12.800        0.0             12.8   \n",
       "2   33          2              10      57  11.913        1.0             20.9   \n",
       "3   29          2               4      19   1.197        0.0              6.3   \n",
       "4   47          1              31     253  18.216        0.0              7.2   \n",
       "\n",
       "   Cluster  \n",
       "0        0  \n",
       "1        1  \n",
       "2        2  \n",
       "3        0  \n",
       "4        1  "
      ]
     },
     "execution_count": 2,
     "metadata": {},
     "output_type": "execute_result"
    }
   ],
   "source": [
    "# Load title basics table.\n",
    "main_df = pd.read_csv('./Data/DataFrame_Customers_with_Cluster.csv')\n",
    "main_df.head(5)"
   ]
  },
  {
   "cell_type": "code",
   "execution_count": 3,
   "id": "b57120cf",
   "metadata": {},
   "outputs": [
    {
     "name": "stdout",
     "output_type": "stream",
     "text": [
      "<class 'pandas.core.frame.DataFrame'>\n",
      "RangeIndex: 850 entries, 0 to 849\n",
      "Data columns (total 8 columns):\n",
      " #   Column           Non-Null Count  Dtype  \n",
      "---  ------           --------------  -----  \n",
      " 0   Age              850 non-null    int64  \n",
      " 1   Education        850 non-null    int64  \n",
      " 2   Years Employed   850 non-null    int64  \n",
      " 3   Income           850 non-null    int64  \n",
      " 4   Debt             850 non-null    float64\n",
      " 5   Defaulted        850 non-null    float64\n",
      " 6   DebtIncomeRatio  850 non-null    float64\n",
      " 7   Cluster          850 non-null    int64  \n",
      "dtypes: float64(3), int64(5)\n",
      "memory usage: 53.2 KB\n"
     ]
    }
   ],
   "source": [
    "# Check general info.\n",
    "main_df.info()"
   ]
  },
  {
   "cell_type": "markdown",
   "id": "eb4b5869",
   "metadata": {},
   "source": [
    "**Notes:**\n",
    "- 'Age', 'Education', 'Years Employed' & 'Clusters' are columns that must be object instead of numerics.\n",
    "- 'Defaulted' column will be transformed to integer to then changed to object dtype."
   ]
  },
  {
   "cell_type": "code",
   "execution_count": 4,
   "id": "8c2afa1c",
   "metadata": {},
   "outputs": [],
   "source": [
    "# Let's convert 'Defaulted' to integer.\n",
    "main_df['Defaulted'] = main_df['Defaulted'].apply(np.int64)"
   ]
  },
  {
   "cell_type": "code",
   "execution_count": 5,
   "id": "866a4150",
   "metadata": {},
   "outputs": [],
   "source": [
    "# Let's convert the columns mentioned to object.\n",
    "main_df['Age'] = main_df['Age'].astype(object)\n",
    "main_df['Education'] = main_df['Education'].astype(object)\n",
    "main_df['Years Employed'] = main_df['Years Employed'].astype(object)\n",
    "main_df['Cluster'] = main_df['Cluster'].astype(object)\n",
    "main_df['Defaulted'] = main_df['Defaulted'].astype(object)\n"
   ]
  },
  {
   "cell_type": "code",
   "execution_count": 6,
   "id": "4d313526",
   "metadata": {},
   "outputs": [
    {
     "name": "stdout",
     "output_type": "stream",
     "text": [
      "<class 'pandas.core.frame.DataFrame'>\n",
      "RangeIndex: 850 entries, 0 to 849\n",
      "Data columns (total 8 columns):\n",
      " #   Column           Non-Null Count  Dtype  \n",
      "---  ------           --------------  -----  \n",
      " 0   Age              850 non-null    object \n",
      " 1   Education        850 non-null    object \n",
      " 2   Years Employed   850 non-null    object \n",
      " 3   Income           850 non-null    int64  \n",
      " 4   Debt             850 non-null    float64\n",
      " 5   Defaulted        850 non-null    object \n",
      " 6   DebtIncomeRatio  850 non-null    float64\n",
      " 7   Cluster          850 non-null    object \n",
      "dtypes: float64(2), int64(1), object(5)\n",
      "memory usage: 53.2+ KB\n"
     ]
    }
   ],
   "source": [
    "# Confirm transformation.\n",
    "main_df.info()"
   ]
  },
  {
   "cell_type": "markdown",
   "id": "3443ac46",
   "metadata": {},
   "source": [
    "## 3.- Hypothesis Test"
   ]
  },
  {
   "cell_type": "markdown",
   "id": "86a03572",
   "metadata": {},
   "source": [
    "**Notes:**\n",
    "- The objective is to evaluate how each cluster would react to the advertising from Platinum & Gold Credit Cards.\n",
    "- Our idea is to deliver marketing strategic suggestions based on two of the variables evaluated in Part A: Income & Debt. This way the campaign would have keywords related to the best result found it.\n",
    "- Both variables (Income & Debt) are numeric and we have 3 clusters (0, 1 & 2) meaning that we are going to use [ANOVA](https://statistics.laerd.com/spss-tutorials/one-way-anova-using-spss-statistics.php) to evaluate the hypothesis."
   ]
  },
  {
   "cell_type": "markdown",
   "id": "7c4c70c8",
   "metadata": {},
   "source": [
    "### 3.1. Is the income performance a variable to be pointed in the advertising/marketing content?\n",
    "- The hypothesis for this statement are:\n",
    "    - **H0** (Null): Marketing strategies focused on how credit cards would improve income performance won't have a significant effect on customer conversions.\n",
    "    - **H1** (Alternate): Customer conversion rate would be increased by focusing on marketing strategies that indicate the income performance would be improved using the credit cards.\n",
    "    "
   ]
  },
  {
   "cell_type": "code",
   "execution_count": 7,
   "id": "95007255",
   "metadata": {},
   "outputs": [
    {
     "name": "stdout",
     "output_type": "stream",
     "text": [
      "Cluster\n",
      "0    34.83\n",
      "1    99.30\n",
      "2    32.63\n",
      "Name: Income, dtype: float64\n"
     ]
    },
    {
     "data": {
      "image/png": "[encoded data removed]",
      "text/plain": [
       "<Figure size 640x480 with 1 Axes>"
      ]
     },
     "metadata": {},
     "output_type": "display_data"
    }
   ],
   "source": [
    "# Let's have a brief look of income per cluster.\n",
    "main_df.groupby('Cluster')['Income'].mean().plot(kind='bar');\n",
    "print(main_df.groupby('Cluster')['Income'].mean().round(2))"
   ]
  },
  {
   "cell_type": "markdown",
   "id": "d1584f66",
   "metadata": {},
   "source": [
    "**Test for Significant Outliers**"
   ]
  },
  {
   "cell_type": "code",
   "execution_count": 8,
   "id": "213d85da",
   "metadata": {},
   "outputs": [
    {
     "data": {
      "text/plain": [
       "dict_keys([0, 1, 2])"
      ]
     },
     "execution_count": 8,
     "metadata": {},
     "output_type": "execute_result"
    }
   ],
   "source": [
    "# Separate the groups.\n",
    "groups = {}\n",
    "for i in main_df['Cluster'].unique():\n",
    "    data = main_df.loc[main_df['Cluster']==i,'Income'].copy()\n",
    "    groups[i] = data \n",
    "groups.keys()"
   ]
  },
  {
   "cell_type": "code",
   "execution_count": 9,
   "id": "d99579fb",
   "metadata": {},
   "outputs": [],
   "source": [
    "# Set up the columns needed.\n",
    "needed_columns = ['Cluster', 'Income']"
   ]
  },
  {
   "cell_type": "code",
   "execution_count": 10,
   "id": "5224caec",
   "metadata": {},
   "outputs": [
    {
     "data": {
      "text/plain": [
       "dict_keys([0, 1, 2])"
      ]
     },
     "execution_count": 10,
     "metadata": {},
     "output_type": "execute_result"
    }
   ],
   "source": [
    "# Let's call back the keys in region.\n",
    "groups.keys()"
   ]
  },
  {
   "cell_type": "code",
   "execution_count": 11,
   "id": "be5045ba",
   "metadata": {},
   "outputs": [
    {
     "name": "stdout",
     "output_type": "stream",
     "text": [
      "We found 6 Outliers in cluster 0\n",
      "We found 2 Outliers in cluster 1\n",
      "We found 3 Outliers in cluster 2\n"
     ]
    }
   ],
   "source": [
    "# Look for outliers to remove them.\n",
    "for Cluster, data in groups.items():\n",
    "    outliers = np.abs(stats.zscore(data)) > 3\n",
    "    print(f'We found', outliers.sum(), 'Outliers in cluster', Cluster)\n",
    "    # Remove outliers.\n",
    "    data = data.loc[~outliers]\n",
    "    groups[Cluster] = data"
   ]
  },
  {
   "cell_type": "markdown",
   "id": "69d8f66b",
   "metadata": {},
   "source": [
    "**Test for Normality**"
   ]
  },
  {
   "cell_type": "code",
   "execution_count": 12,
   "id": "1386aa45",
   "metadata": {},
   "outputs": [
    {
     "data": {
      "text/html": [
       "<div>\n",
       "<style scoped>\n",
       "    .dataframe tbody tr th:only-of-type {\n",
       "        vertical-align: middle;\n",
       "    }\n",
       "\n",
       "    .dataframe tbody tr th {\n",
       "        vertical-align: top;\n",
       "    }\n",
       "\n",
       "    .dataframe thead th {\n",
       "        text-align: right;\n",
       "    }\n",
       "</style>\n",
       "<table border=\"1\" class=\"dataframe\">\n",
       "  <thead>\n",
       "    <tr style=\"text-align: right;\">\n",
       "      <th></th>\n",
       "      <th>n</th>\n",
       "      <th>p</th>\n",
       "      <th>test stat</th>\n",
       "    </tr>\n",
       "  </thead>\n",
       "  <tbody>\n",
       "    <tr>\n",
       "      <th>0</th>\n",
       "      <td>511.0</td>\n",
       "      <td>1.884578e-17</td>\n",
       "      <td>77.020486</td>\n",
       "    </tr>\n",
       "    <tr>\n",
       "      <th>1</th>\n",
       "      <td>160.0</td>\n",
       "      <td>1.526078e-12</td>\n",
       "      <td>54.416640</td>\n",
       "    </tr>\n",
       "    <tr>\n",
       "      <th>2</th>\n",
       "      <td>168.0</td>\n",
       "      <td>1.130855e-06</td>\n",
       "      <td>27.385073</td>\n",
       "    </tr>\n",
       "  </tbody>\n",
       "</table>\n",
       "</div>"
      ],
      "text/plain": [
       "       n             p  test stat\n",
       "0  511.0  1.884578e-17  77.020486\n",
       "1  160.0  1.526078e-12  54.416640\n",
       "2  168.0  1.130855e-06  27.385073"
      ]
     },
     "execution_count": 12,
     "metadata": {},
     "output_type": "execute_result"
    }
   ],
   "source": [
    "# Running normal test on each region.\n",
    "norm_results = {}\n",
    "for i, data in groups.items():\n",
    "    stat, p = stats.normaltest(data)\n",
    "    norm_results[i] = {'n': len(data), 'p':p, 'test stat':stat,}\n",
    "\n",
    "norm_results_df = pd.DataFrame(norm_results).T\n",
    "norm_results_df"
   ]
  },
  {
   "cell_type": "code",
   "execution_count": 13,
   "id": "e8723268",
   "metadata": {},
   "outputs": [
    {
     "data": {
      "text/html": [
       "<div>\n",
       "<style scoped>\n",
       "    .dataframe tbody tr th:only-of-type {\n",
       "        vertical-align: middle;\n",
       "    }\n",
       "\n",
       "    .dataframe tbody tr th {\n",
       "        vertical-align: top;\n",
       "    }\n",
       "\n",
       "    .dataframe thead th {\n",
       "        text-align: right;\n",
       "    }\n",
       "</style>\n",
       "<table border=\"1\" class=\"dataframe\">\n",
       "  <thead>\n",
       "    <tr style=\"text-align: right;\">\n",
       "      <th></th>\n",
       "      <th>n</th>\n",
       "      <th>p</th>\n",
       "      <th>test stat</th>\n",
       "      <th>sig_dif?</th>\n",
       "    </tr>\n",
       "  </thead>\n",
       "  <tbody>\n",
       "    <tr>\n",
       "      <th>0</th>\n",
       "      <td>511.0</td>\n",
       "      <td>1.884578e-17</td>\n",
       "      <td>77.020486</td>\n",
       "      <td>True</td>\n",
       "    </tr>\n",
       "    <tr>\n",
       "      <th>1</th>\n",
       "      <td>160.0</td>\n",
       "      <td>1.526078e-12</td>\n",
       "      <td>54.416640</td>\n",
       "      <td>True</td>\n",
       "    </tr>\n",
       "    <tr>\n",
       "      <th>2</th>\n",
       "      <td>168.0</td>\n",
       "      <td>1.130855e-06</td>\n",
       "      <td>27.385073</td>\n",
       "      <td>True</td>\n",
       "    </tr>\n",
       "  </tbody>\n",
       "</table>\n",
       "</div>"
      ],
      "text/plain": [
       "       n             p  test stat  sig_dif?\n",
       "0  511.0  1.884578e-17  77.020486      True\n",
       "1  160.0  1.526078e-12  54.416640      True\n",
       "2  168.0  1.130855e-06  27.385073      True"
      ]
     },
     "execution_count": 13,
     "metadata": {},
     "output_type": "execute_result"
    }
   ],
   "source": [
    "# Checking sig with pandas.\n",
    "norm_results_df['sig_dif?'] = norm_results_df['p'] < .05 \n",
    "norm_results_df"
   ]
  },
  {
   "cell_type": "markdown",
   "id": "182c475f",
   "metadata": {},
   "source": [
    "**Notes:**\n",
    "- Having a result as True on 'sig_dif?' column means that the distribution tested, is significantly different than a normal distribution.\n",
    "- The test indicates that we must reject H0 and accept H1."
   ]
  },
  {
   "cell_type": "markdown",
   "id": "21b02f75",
   "metadata": {},
   "source": [
    "**Test for Equal Variance**"
   ]
  },
  {
   "cell_type": "code",
   "execution_count": 14,
   "id": "a02ac27b",
   "metadata": {},
   "outputs": [
    {
     "name": "stdout",
     "output_type": "stream",
     "text": [
      "Results are: LeveneResult(statistic=97.3032504966865, pvalue=1.0218828698925714e-38)\n",
      "\u001b[1mIn conlusion:\u001b[0;0m\n",
      "- We reject H0.\n"
     ]
    }
   ],
   "source": [
    "# Calculating with the * operator.\n",
    "levene_results = stats.levene(*groups.values())\n",
    "print(f'Results are:', levene_results)\n",
    "if levene_results.pvalue <.05:\n",
    "    print('\\033[1mIn conlusion:\\033[0;0m\\n- We reject H0.')\n",
    "else:\n",
    "    print('\\033[1mIn conlusion:\\033[0;0m\\n- We fail to reject H0. Clusters have equal variance.')"
   ]
  },
  {
   "cell_type": "code",
   "execution_count": 15,
   "id": "3c587579",
   "metadata": {},
   "outputs": [
    {
     "name": "stdout",
     "output_type": "stream",
     "text": [
      "Results are: F_onewayResult(statistic=417.49664647663184, pvalue=1.900187949899092e-126)\n",
      "\u001b[1mIn conlusion:\u001b[0;0m\n",
      "- We reject H0.\n"
     ]
    }
   ],
   "source": [
    "# Now, let's try with One-Way ANOVA.\n",
    "anova_result = stats.f_oneway(*groups.values())\n",
    "print(f'Results are:', anova_result)\n",
    "if anova_result.pvalue <.05:\n",
    "    print('\\033[1mIn conlusion:\\033[0;0m\\n- We reject H0.')\n",
    "else:\n",
    "    print('\\033[1mIn conlusion:\\033[0;0m\\n- We fail to reject H0. Clusters have equal variance.')"
   ]
  },
  {
   "cell_type": "code",
   "execution_count": 16,
   "id": "9fdc0715",
   "metadata": {},
   "outputs": [
    {
     "name": "stdout",
     "output_type": "stream",
     "text": [
      "Results are: KruskalResult(statistic=328.81596368857754, pvalue=3.967534429575124e-72)\n",
      "\u001b[1mIn conlusion:\u001b[0;0m\n",
      "- We reject H0.\n"
     ]
    }
   ],
   "source": [
    "# Now, let's try another alternative method with Kruskal Test.\n",
    "kruskal_result = stats.kruskal(*groups.values())\n",
    "print(f'Results are:', kruskal_result)\n",
    "if kruskal_result.pvalue <.05:\n",
    "    print('\\033[1mIn conlusion:\\033[0;0m\\n- We reject H0.')\n",
    "else:\n",
    "    print('\\033[1mIn conlusion:\\033[0;0m\\n- We fail to reject H0. Clusters have equal variance.')"
   ]
  },
  {
   "cell_type": "code",
   "execution_count": 17,
   "id": "2270f5e8",
   "metadata": {},
   "outputs": [
    {
     "data": {
      "text/html": [
       "<table class=\"simpletable\">\n",
       "<caption>Multiple Comparison of Means - Tukey HSD, FWER=0.05</caption>\n",
       "<tr>\n",
       "  <th>group1</th> <th>group2</th> <th>meandiff</th>  <th>p-adj</th>   <th>lower</th>    <th>upper</th>  <th>reject</th>\n",
       "</tr>\n",
       "<tr>\n",
       "     <td>0</td>      <td>1</td>    <td>64.4626</td>   <td>0.0</td>   <td>58.3576</td>  <td>70.5677</td>  <td>True</td> \n",
       "</tr>\n",
       "<tr>\n",
       "     <td>0</td>      <td>2</td>    <td>-2.2079</td> <td>0.6615</td>  <td>-8.1894</td>  <td>3.7736</td>   <td>False</td>\n",
       "</tr>\n",
       "<tr>\n",
       "     <td>1</td>      <td>2</td>   <td>-66.6706</td>   <td>0.0</td>  <td>-74.1046</td> <td>-59.2365</td>  <td>True</td> \n",
       "</tr>\n",
       "</table>"
      ],
      "text/plain": [
       "<class 'statsmodels.iolib.table.SimpleTable'>"
      ]
     },
     "execution_count": 17,
     "metadata": {},
     "output_type": "execute_result"
    }
   ],
   "source": [
    "# Perform Tukey's multiple comparison test and display the summary.\n",
    "values = main_df['Income']\n",
    "labels = main_df['Cluster']\n",
    "\n",
    "tukeys_results = pairwise_tukeyhsd(values,labels)\n",
    "tukeys_results.summary()"
   ]
  },
  {
   "cell_type": "markdown",
   "id": "c6787d44",
   "metadata": {},
   "source": [
    "**Notes:**\n",
    "- We developed methods to prove that we were right about question 3.1, and used three different tests (Normality, Equal Variance & Independent T-Test) that recommended to reject H0.\n",
    "- We decided to perform Tukey's Test to find which clusters are more susceptible to buy the idea.\n",
    "    - Cluster 1, who has the highest income as it was showed at the beginning of Section 3.1, rejects H0 when is compared with Cluster 0 and Cluster 2. The reason is because clusters 0 & 2, in average, have ~60% less income compared to Cluster 1.\n",
    "    - Clusters 0 & 2 are looking for better income, so if the credit card campaign promise they can do more improving their income performance, the customer conversion rate would be significantly higher than not mentioning it."
   ]
  },
  {
   "cell_type": "markdown",
   "id": "f4535340",
   "metadata": {},
   "source": [
    "### 3.2. Is the debt the main variable to be pointed in the advertising/marketing content?\n",
    "- The hypothesis for this statement are:\n",
    "    - **H0** (Null): Marketing strategies focused on how credit cards would improve debt performance won't have a significant effect on customer conversions.\n",
    "    - **H1** (Alternate): Customer conversion rate would be increased by focusing on marketing strategies that indicate the debt performance would be improved using the credit cards."
   ]
  },
  {
   "cell_type": "code",
   "execution_count": 18,
   "id": "1b657897",
   "metadata": {},
   "outputs": [
    {
     "name": "stdout",
     "output_type": "stream",
     "text": [
      "Cluster\n",
      "0     2.68\n",
      "1    10.84\n",
      "2     4.76\n",
      "Name: Debt, dtype: float64\n"
     ]
    },
    {
     "data": {
      "image/png": "[encoded data removed]",
      "text/plain": [
       "<Figure size 640x480 with 1 Axes>"
      ]
     },
     "metadata": {},
     "output_type": "display_data"
    }
   ],
   "source": [
    "# Let's have a brief look of income per cluster.\n",
    "main_df.groupby('Cluster')['Debt'].mean().plot(kind='bar');\n",
    "print(main_df.groupby('Cluster')['Debt'].mean().round(2))"
   ]
  },
  {
   "cell_type": "markdown",
   "id": "17aed140",
   "metadata": {},
   "source": [
    "**Test for Significant Outliers**"
   ]
  },
  {
   "cell_type": "code",
   "execution_count": 19,
   "id": "cb32862d",
   "metadata": {},
   "outputs": [
    {
     "data": {
      "text/plain": [
       "dict_keys([0, 1, 2])"
      ]
     },
     "execution_count": 19,
     "metadata": {},
     "output_type": "execute_result"
    }
   ],
   "source": [
    "# Separate the groups.\n",
    "groups = {}\n",
    "for i in main_df['Cluster'].unique():\n",
    "    data = main_df.loc[main_df['Cluster']==i,'Debt'].copy()\n",
    "    groups[i] = data \n",
    "groups.keys()"
   ]
  },
  {
   "cell_type": "code",
   "execution_count": 20,
   "id": "43947601",
   "metadata": {},
   "outputs": [],
   "source": [
    "# Set up the columns needed.\n",
    "needed_columns = ['Cluster', 'Debt']"
   ]
  },
  {
   "cell_type": "code",
   "execution_count": 21,
   "id": "e4118653",
   "metadata": {},
   "outputs": [
    {
     "data": {
      "text/plain": [
       "dict_keys([0, 1, 2])"
      ]
     },
     "execution_count": 21,
     "metadata": {},
     "output_type": "execute_result"
    }
   ],
   "source": [
    "# Let's call back the keys in region.\n",
    "groups.keys()"
   ]
  },
  {
   "cell_type": "code",
   "execution_count": 22,
   "id": "d840109e",
   "metadata": {},
   "outputs": [
    {
     "name": "stdout",
     "output_type": "stream",
     "text": [
      "We found 4 Outliers in cluster 0\n",
      "We found 3 Outliers in cluster 1\n",
      "We found 4 Outliers in cluster 2\n"
     ]
    }
   ],
   "source": [
    "# Look for outliers to remove them.\n",
    "for Cluster, data in groups.items():\n",
    "    outliers = np.abs(stats.zscore(data)) > 3\n",
    "    print(f'We found', outliers.sum(), 'Outliers in cluster', Cluster)\n",
    "    # Remove outliers.\n",
    "    data = data.loc[~outliers]\n",
    "    groups[Cluster] = data"
   ]
  },
  {
   "cell_type": "markdown",
   "id": "08f2f306",
   "metadata": {},
   "source": [
    "**Test for Normality**"
   ]
  },
  {
   "cell_type": "code",
   "execution_count": 23,
   "id": "5a9e3048",
   "metadata": {},
   "outputs": [
    {
     "data": {
      "text/html": [
       "<div>\n",
       "<style scoped>\n",
       "    .dataframe tbody tr th:only-of-type {\n",
       "        vertical-align: middle;\n",
       "    }\n",
       "\n",
       "    .dataframe tbody tr th {\n",
       "        vertical-align: top;\n",
       "    }\n",
       "\n",
       "    .dataframe thead th {\n",
       "        text-align: right;\n",
       "    }\n",
       "</style>\n",
       "<table border=\"1\" class=\"dataframe\">\n",
       "  <thead>\n",
       "    <tr style=\"text-align: right;\">\n",
       "      <th></th>\n",
       "      <th>n</th>\n",
       "      <th>p</th>\n",
       "      <th>test stat</th>\n",
       "    </tr>\n",
       "  </thead>\n",
       "  <tbody>\n",
       "    <tr>\n",
       "      <th>0</th>\n",
       "      <td>513.0</td>\n",
       "      <td>9.726876e-15</td>\n",
       "      <td>64.527767</td>\n",
       "    </tr>\n",
       "    <tr>\n",
       "      <th>1</th>\n",
       "      <td>159.0</td>\n",
       "      <td>5.629849e-09</td>\n",
       "      <td>37.990367</td>\n",
       "    </tr>\n",
       "    <tr>\n",
       "      <th>2</th>\n",
       "      <td>167.0</td>\n",
       "      <td>3.633991e-07</td>\n",
       "      <td>29.655528</td>\n",
       "    </tr>\n",
       "  </tbody>\n",
       "</table>\n",
       "</div>"
      ],
      "text/plain": [
       "       n             p  test stat\n",
       "0  513.0  9.726876e-15  64.527767\n",
       "1  159.0  5.629849e-09  37.990367\n",
       "2  167.0  3.633991e-07  29.655528"
      ]
     },
     "execution_count": 23,
     "metadata": {},
     "output_type": "execute_result"
    }
   ],
   "source": [
    "# Running normal test on each region.\n",
    "norm_results = {}\n",
    "for i, data in groups.items():\n",
    "    stat, p = stats.normaltest(data)\n",
    "    norm_results[i] = {'n': len(data), 'p':p, 'test stat':stat,}\n",
    "\n",
    "norm_results_df = pd.DataFrame(norm_results).T\n",
    "norm_results_df"
   ]
  },
  {
   "cell_type": "code",
   "execution_count": 24,
   "id": "eccdb5ac",
   "metadata": {},
   "outputs": [
    {
     "data": {
      "text/html": [
       "<div>\n",
       "<style scoped>\n",
       "    .dataframe tbody tr th:only-of-type {\n",
       "        vertical-align: middle;\n",
       "    }\n",
       "\n",
       "    .dataframe tbody tr th {\n",
       "        vertical-align: top;\n",
       "    }\n",
       "\n",
       "    .dataframe thead th {\n",
       "        text-align: right;\n",
       "    }\n",
       "</style>\n",
       "<table border=\"1\" class=\"dataframe\">\n",
       "  <thead>\n",
       "    <tr style=\"text-align: right;\">\n",
       "      <th></th>\n",
       "      <th>n</th>\n",
       "      <th>p</th>\n",
       "      <th>test stat</th>\n",
       "      <th>sig_dif?</th>\n",
       "    </tr>\n",
       "  </thead>\n",
       "  <tbody>\n",
       "    <tr>\n",
       "      <th>0</th>\n",
       "      <td>513.0</td>\n",
       "      <td>9.726876e-15</td>\n",
       "      <td>64.527767</td>\n",
       "      <td>True</td>\n",
       "    </tr>\n",
       "    <tr>\n",
       "      <th>1</th>\n",
       "      <td>159.0</td>\n",
       "      <td>5.629849e-09</td>\n",
       "      <td>37.990367</td>\n",
       "      <td>True</td>\n",
       "    </tr>\n",
       "    <tr>\n",
       "      <th>2</th>\n",
       "      <td>167.0</td>\n",
       "      <td>3.633991e-07</td>\n",
       "      <td>29.655528</td>\n",
       "      <td>True</td>\n",
       "    </tr>\n",
       "  </tbody>\n",
       "</table>\n",
       "</div>"
      ],
      "text/plain": [
       "       n             p  test stat  sig_dif?\n",
       "0  513.0  9.726876e-15  64.527767      True\n",
       "1  159.0  5.629849e-09  37.990367      True\n",
       "2  167.0  3.633991e-07  29.655528      True"
      ]
     },
     "execution_count": 24,
     "metadata": {},
     "output_type": "execute_result"
    }
   ],
   "source": [
    "# Checking sig with pandas.\n",
    "norm_results_df['sig_dif?'] = norm_results_df['p'] < .05 \n",
    "norm_results_df"
   ]
  },
  {
   "cell_type": "markdown",
   "id": "6e0426d5",
   "metadata": {},
   "source": [
    "**Notes:**\n",
    "- Having a result as True on 'sig_dif?' column means that the distribution tested, is significantly different than a normal distribution.\n",
    "- The test indicates that we must reject H0 and accept H1."
   ]
  },
  {
   "cell_type": "markdown",
   "id": "30c64422",
   "metadata": {},
   "source": [
    "**Test for Equal Variance**"
   ]
  },
  {
   "cell_type": "code",
   "execution_count": 25,
   "id": "9c374717",
   "metadata": {},
   "outputs": [
    {
     "name": "stdout",
     "output_type": "stream",
     "text": [
      "Results are: LeveneResult(statistic=128.90380146754808, pvalue=1.602920476088331e-49)\n",
      "\u001b[1mIn conlusion:\u001b[0;0m\n",
      "- We reject H0.\n"
     ]
    }
   ],
   "source": [
    "# Calculating with the * operator.\n",
    "levene_results = stats.levene(*groups.values())\n",
    "print(f'Results are:', levene_results)\n",
    "if levene_results.pvalue <.05:\n",
    "    print('\\033[1mIn conlusion:\\033[0;0m\\n- We reject H0.')\n",
    "else:\n",
    "    print('\\033[1mIn conlusion:\\033[0;0m\\n- We fail to reject H0. Clusters have equal variance.')"
   ]
  },
  {
   "cell_type": "code",
   "execution_count": 26,
   "id": "c5fe71ca",
   "metadata": {},
   "outputs": [
    {
     "name": "stdout",
     "output_type": "stream",
     "text": [
      "Results are: F_onewayResult(statistic=312.6876621288454, pvalue=4.090761481645252e-102)\n",
      "\u001b[1mIn conlusion:\u001b[0;0m\n",
      "- We reject H0.\n"
     ]
    }
   ],
   "source": [
    "# Now, let's try with One-Way ANOVA.\n",
    "anova_result = stats.f_oneway(*groups.values())\n",
    "print(f'Results are:', anova_result)\n",
    "if anova_result.pvalue <.05:\n",
    "    print('\\033[1mIn conlusion:\\033[0;0m\\n- We reject H0.')\n",
    "else:\n",
    "    print('\\033[1mIn conlusion:\\033[0;0m\\n- We fail to reject H0. Clusters have equal variance.')"
   ]
  },
  {
   "cell_type": "code",
   "execution_count": 27,
   "id": "4ca75549",
   "metadata": {},
   "outputs": [
    {
     "name": "stdout",
     "output_type": "stream",
     "text": [
      "Results are: KruskalResult(statistic=285.050948856678, pvalue=1.2646575034906382e-62)\n",
      "\u001b[1mIn conlusion:\u001b[0;0m\n",
      "- We reject H0.\n"
     ]
    }
   ],
   "source": [
    "# Now, let's try another alternative method with Kruskal Test.\n",
    "kruskal_result = stats.kruskal(*groups.values())\n",
    "print(f'Results are:', kruskal_result)\n",
    "if kruskal_result.pvalue <.05:\n",
    "    print('\\033[1mIn conlusion:\\033[0;0m\\n- We reject H0.')\n",
    "else:\n",
    "    print('\\033[1mIn conlusion:\\033[0;0m\\n- We fail to reject H0. Clusters have equal variance.')"
   ]
  },
  {
   "cell_type": "code",
   "execution_count": 28,
   "id": "c0b903b2",
   "metadata": {},
   "outputs": [
    {
     "data": {
      "text/html": [
       "<table class=\"simpletable\">\n",
       "<caption>Multiple Comparison of Means - Tukey HSD, FWER=0.05</caption>\n",
       "<tr>\n",
       "  <th>group1</th> <th>group2</th> <th>meandiff</th> <th>p-adj</th>  <th>lower</th>   <th>upper</th> <th>reject</th>\n",
       "</tr>\n",
       "<tr>\n",
       "     <td>0</td>      <td>1</td>    <td>8.1582</td>   <td>0.0</td>  <td>7.3191</td>  <td>8.9973</td>  <td>True</td> \n",
       "</tr>\n",
       "<tr>\n",
       "     <td>0</td>      <td>2</td>    <td>2.0714</td>   <td>0.0</td>  <td>1.2493</td>  <td>2.8936</td>  <td>True</td> \n",
       "</tr>\n",
       "<tr>\n",
       "     <td>1</td>      <td>2</td>    <td>-6.0868</td>  <td>0.0</td>  <td>-7.1086</td> <td>-5.065</td>  <td>True</td> \n",
       "</tr>\n",
       "</table>"
      ],
      "text/plain": [
       "<class 'statsmodels.iolib.table.SimpleTable'>"
      ]
     },
     "execution_count": 28,
     "metadata": {},
     "output_type": "execute_result"
    }
   ],
   "source": [
    "# Perform Tukey's multiple comparison test and display the summary.\n",
    "values = main_df['Debt']\n",
    "labels = main_df['Cluster']\n",
    "\n",
    "tukeys_results = pairwise_tukeyhsd(values,labels)\n",
    "tukeys_results.summary()"
   ]
  },
  {
   "cell_type": "markdown",
   "id": "f309923e",
   "metadata": {},
   "source": [
    "**Notes:**\n",
    "- We developed methods to prove that we were right about question 3.2, and used three different tests (Normality, Equal Variance & Independent T-Test) that recommended to reject H0.\n",
    "- One more time, we decided to perform Tukey's Test to find which clusters are more susceptible to buy the idea.\n",
    "    - In this case, there is not different between groups. All of them would accept the idea about a credit card would improve their debt performance."
   ]
  },
  {
   "cell_type": "markdown",
   "id": "25fdc2ab",
   "metadata": {},
   "source": [
    "# C. Conclusions"
   ]
  },
  {
   "cell_type": "markdown",
   "id": "20b032f7",
   "metadata": {},
   "source": [
    "- According to [Part A](https://github.com/edleafvirtual/Project-4-How_to_Market_New_Cards/blob/main/Part_A_KMeans.ipynb), Cluster 0 is the ideal customer for Platinum Credit Card, and Cluster 2 for Gold Credit Card. Therefore, in order to keep marketing costs low for both products, the campaign should indicates that the credit cards would help them to improve their income performance.\n",
    "- Even when a credit card is meant to be a financial instrument to help the customers to spend more money in a healthy way, the code developed in Section 3.2 demonstrated that this campaign can be useful for Cluster 2 (Gold Credit Card), which debt is almost 1.8 times higher than Cluster 0."
   ]
  }
 ],
 "metadata": {
  "kernelspec": {
   "display_name": "Python (dojo-env)",
   "language": "python",
   "name": "dojo-env"
  },
  "language_info": {
   "codemirror_mode": {
    "name": "ipython",
    "version": 3
   },
   "file_extension": ".py",
   "mimetype": "text/x-python",
   "name": "python",
   "nbconvert_exporter": "python",
   "pygments_lexer": "ipython3",
   "version": "3.8.13"
  },
  "toc": {
   "base_numbering": 1,
   "nav_menu": {},
   "number_sections": false,
   "sideBar": true,
   "skip_h1_title": false,
   "title_cell": "Table of Contents",
   "title_sidebar": "Contents",
   "toc_cell": false,
   "toc_position": {},
   "toc_section_display": true,
   "toc_window_display": true
  }
 },
 "nbformat": 4,
 "nbformat_minor": 5
}
